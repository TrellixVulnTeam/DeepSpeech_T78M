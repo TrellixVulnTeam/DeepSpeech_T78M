{
 "cells": [
  {
   "cell_type": "markdown",
   "metadata": {},
   "source": [
    "## This is a first training scenario with data from Common Voice and ArchiMob"
   ]
  },
  {
   "cell_type": "code",
   "execution_count": null,
   "metadata": {},
   "outputs": [],
   "source": [
    "#Install Git Large File Storage\n",
    "!git lfs install"
   ]
  },
  {
   "cell_type": "code",
   "execution_count": null,
   "metadata": {
    "scrolled": true
   },
   "outputs": [],
   "source": [
    "#Install DeepSpeech requirements\n",
    "!pip3 install -r requirements.txt\n",
    "!pip3 install -r requirements_eval_tflite.txt"
   ]
  },
  {
   "cell_type": "code",
   "execution_count": null,
   "metadata": {},
   "outputs": [],
   "source": [
    "#Install DeepSpeech-GPU    -- will only work if GPUs are available\n",
    "#!pip3 install deepspeech-gpu\n",
    "\n",
    "#alternatively\n",
    "!pip3 install deepspeech"
   ]
  },
  {
   "cell_type": "code",
   "execution_count": null,
   "metadata": {},
   "outputs": [],
   "source": [
    "#First training scenario on Common-Voice (cv) data\n",
    "!bash ./training/german_cv_checkpoint.sh"
   ]
  },
  {
   "cell_type": "code",
   "execution_count": null,
   "metadata": {},
   "outputs": [],
   "source": [
    "#Copy checkpoints from ./checkpoints/ckpt_cv  to   ./checkpoints/ckpt_am to be able to continue training from pre-trained model\n",
    "import os\n",
    "import glob\n",
    "from distutils.dir_util import copy_tree\n",
    "\n",
    "files = glob.glob('./checkpoints/ckpt_am/*')\n",
    "for f in files:\n",
    "    os.remove(f)\n",
    "print('Old files in am checkpoints deleted')\n",
    "copy_tree(\"./checkpoints/ckpt_cv\", \"./checkpoints/ckpt_am\")\n",
    "print('CV Checkpoints successfully copied to am checkpoints')"
   ]
  },
  {
   "cell_type": "code",
   "execution_count": null,
   "metadata": {
    "scrolled": false
   },
   "outputs": [],
   "source": [
    "#Second training scenario with ArchiMob (am) data starting from Checkpoints of cv model\n",
    "!bash ./training/am_checkpoint.sh"
   ]
  },
  {
   "cell_type": "code",
   "execution_count": null,
   "metadata": {
    "scrolled": true
   },
   "outputs": [],
   "source": [
    "#fatal python error \"segmentation fault\" does not appear in below training scenario...\n",
    "!bash ./bin/run-tc-ldc93s1_checkpoint.sh"
   ]
  },
  {
   "cell_type": "code",
   "execution_count": null,
   "metadata": {},
   "outputs": [],
   "source": []
  }
 ],
 "metadata": {
  "kernelspec": {
   "display_name": "Python 3",
   "language": "python",
   "name": "python3"
  },
  "language_info": {
   "codemirror_mode": {
    "name": "ipython",
    "version": 3
   },
   "file_extension": ".py",
   "mimetype": "text/x-python",
   "name": "python",
   "nbconvert_exporter": "python",
   "pygments_lexer": "ipython3",
   "version": "3.7.2"
  }
 },
 "nbformat": 4,
 "nbformat_minor": 2
}
